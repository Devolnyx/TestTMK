{
 "cells": [
  {
   "cell_type": "code",
   "execution_count": 1,
   "id": "dd2ec939",
   "metadata": {},
   "outputs": [
    {
     "data": {
      "text/plain": [
       "['.git',\n",
       " '.idea',\n",
       " '.ipynb_checkpoints',\n",
       " 'main.py',\n",
       " 'new_df.xlsx',\n",
       " 'new_df1.xlsx',\n",
       " 'Untitled.ipynb',\n",
       " 'venv',\n",
       " 'venv.zip',\n",
       " 'Спецификация_РУСАЛ_КрасноярскАЗ_АСОДУЭ_12.04.2021_20.04.2022.xls']"
      ]
     },
     "execution_count": 1,
     "metadata": {},
     "output_type": "execute_result"
    }
   ],
   "source": [
    "import os\n",
    "import pandas as pd\n",
    "os.listdir()"
   ]
  },
  {
   "cell_type": "code",
   "execution_count": null,
   "id": "fd45f57a",
   "metadata": {},
   "outputs": [],
   "source": [
    "!pip install openpyxl"
   ]
  },
  {
   "cell_type": "code",
   "execution_count": 2,
   "id": "fbabb4a3",
   "metadata": {},
   "outputs": [],
   "source": [
    "df = pd.read_excel('Спецификация_РУСАЛ_КрасноярскАЗ_АСОДУЭ_12.04.2021_20.04.2022.xls', skiprows=[x for x in range(11)]).dropna(subset=['Объект'])"
   ]
  },
  {
   "cell_type": "code",
   "execution_count": 4,
   "id": "7ff171e1",
   "metadata": {},
   "outputs": [],
   "source": [
    "new_df = df.groupby(['Объект', 'Группа'], \n",
    "                    as_index=False\n",
    "                   )[['Стоимость отгрузки, руб.без НДС','Стоимость (Руб. без НДС) для заказчика']].sum()"
   ]
  },
  {
   "cell_type": "code",
   "execution_count": 5,
   "id": "2338fdec",
   "metadata": {},
   "outputs": [
    {
     "data": {
      "text/html": [
       "<div>\n",
       "<style scoped>\n",
       "    .dataframe tbody tr th:only-of-type {\n",
       "        vertical-align: middle;\n",
       "    }\n",
       "\n",
       "    .dataframe tbody tr th {\n",
       "        vertical-align: top;\n",
       "    }\n",
       "\n",
       "    .dataframe thead th {\n",
       "        text-align: right;\n",
       "    }\n",
       "</style>\n",
       "<table border=\"1\" class=\"dataframe\">\n",
       "  <thead>\n",
       "    <tr style=\"text-align: right;\">\n",
       "      <th></th>\n",
       "      <th>Объект</th>\n",
       "      <th>Группа</th>\n",
       "      <th>Стоимость отгрузки, руб.без НДС</th>\n",
       "      <th>Стоимость (Руб. без НДС) для заказчика</th>\n",
       "    </tr>\n",
       "  </thead>\n",
       "  <tbody>\n",
       "    <tr>\n",
       "      <th>0</th>\n",
       "      <td>ВРУ-10</td>\n",
       "      <td>Материалы</td>\n",
       "      <td>105432.21</td>\n",
       "      <td>131794.41</td>\n",
       "    </tr>\n",
       "    <tr>\n",
       "      <th>1</th>\n",
       "      <td>ВРУ-10</td>\n",
       "      <td>Оборудование</td>\n",
       "      <td>126768.32</td>\n",
       "      <td>158460.41</td>\n",
       "    </tr>\n",
       "    <tr>\n",
       "      <th>2</th>\n",
       "      <td>ВРУ-11</td>\n",
       "      <td>Материалы</td>\n",
       "      <td>110430.30</td>\n",
       "      <td>138041.70</td>\n",
       "    </tr>\n",
       "    <tr>\n",
       "      <th>3</th>\n",
       "      <td>ВРУ-11</td>\n",
       "      <td>Оборудование</td>\n",
       "      <td>149806.65</td>\n",
       "      <td>187258.33</td>\n",
       "    </tr>\n",
       "    <tr>\n",
       "      <th>4</th>\n",
       "      <td>ВРУ-13</td>\n",
       "      <td>Материалы</td>\n",
       "      <td>101588.20</td>\n",
       "      <td>126987.60</td>\n",
       "    </tr>\n",
       "    <tr>\n",
       "      <th>...</th>\n",
       "      <td>...</td>\n",
       "      <td>...</td>\n",
       "      <td>...</td>\n",
       "      <td>...</td>\n",
       "    </tr>\n",
       "    <tr>\n",
       "      <th>99</th>\n",
       "      <td>РТП-31</td>\n",
       "      <td>Материалы</td>\n",
       "      <td>75122.75</td>\n",
       "      <td>93906.21</td>\n",
       "    </tr>\n",
       "    <tr>\n",
       "      <th>100</th>\n",
       "      <td>РТП-31</td>\n",
       "      <td>Оборудование</td>\n",
       "      <td>46057.50</td>\n",
       "      <td>57571.88</td>\n",
       "    </tr>\n",
       "    <tr>\n",
       "      <th>101</th>\n",
       "      <td>Установка датчиков положения разъединителей ГР...</td>\n",
       "      <td>ЗИП</td>\n",
       "      <td>454585.38</td>\n",
       "      <td>568232.38</td>\n",
       "    </tr>\n",
       "    <tr>\n",
       "      <th>102</th>\n",
       "      <td>Установка датчиков положения разъединителей ГР...</td>\n",
       "      <td>Материалы</td>\n",
       "      <td>1511751.56</td>\n",
       "      <td>1889740.90</td>\n",
       "    </tr>\n",
       "    <tr>\n",
       "      <th>103</th>\n",
       "      <td>Установка датчиков положения разъединителей ГР...</td>\n",
       "      <td>Оборудование</td>\n",
       "      <td>1832046.58</td>\n",
       "      <td>2290061.11</td>\n",
       "    </tr>\n",
       "  </tbody>\n",
       "</table>\n",
       "<p>104 rows × 4 columns</p>\n",
       "</div>"
      ],
      "text/plain": [
       "                                                Объект        Группа  \\\n",
       "0                                               ВРУ-10     Материалы   \n",
       "1                                               ВРУ-10  Оборудование   \n",
       "2                                               ВРУ-11     Материалы   \n",
       "3                                               ВРУ-11  Оборудование   \n",
       "4                                               ВРУ-13     Материалы   \n",
       "..                                                 ...           ...   \n",
       "99                                              РТП-31     Материалы   \n",
       "100                                             РТП-31  Оборудование   \n",
       "101  Установка датчиков положения разъединителей ГР...           ЗИП   \n",
       "102  Установка датчиков положения разъединителей ГР...     Материалы   \n",
       "103  Установка датчиков положения разъединителей ГР...  Оборудование   \n",
       "\n",
       "     Стоимость отгрузки, руб.без НДС  Стоимость (Руб. без НДС) для заказчика  \n",
       "0                          105432.21                               131794.41  \n",
       "1                          126768.32                               158460.41  \n",
       "2                          110430.30                               138041.70  \n",
       "3                          149806.65                               187258.33  \n",
       "4                          101588.20                               126987.60  \n",
       "..                               ...                                     ...  \n",
       "99                          75122.75                                93906.21  \n",
       "100                         46057.50                                57571.88  \n",
       "101                        454585.38                               568232.38  \n",
       "102                       1511751.56                              1889740.90  \n",
       "103                       1832046.58                              2290061.11  \n",
       "\n",
       "[104 rows x 4 columns]"
      ]
     },
     "execution_count": 5,
     "metadata": {},
     "output_type": "execute_result"
    }
   ],
   "source": [
    "new_df"
   ]
  },
  {
   "cell_type": "code",
   "execution_count": 30,
   "id": "ee7a53c6",
   "metadata": {},
   "outputs": [],
   "source": [
    "new_df.to_excel('new_df.xlsx')"
   ]
  },
  {
   "cell_type": "code",
   "execution_count": 22,
   "id": "e9bde8b0",
   "metadata": {},
   "outputs": [
    {
     "name": "stdout",
     "output_type": "stream",
     "text": [
      "Collecting openpyxl\n",
      "  Using cached openpyxl-3.0.9-py2.py3-none-any.whl (242 kB)\n",
      "Collecting et-xmlfile\n",
      "  Using cached et_xmlfile-1.1.0-py3-none-any.whl (4.7 kB)\n",
      "Installing collected packages: et-xmlfile, openpyxl\n",
      "Successfully installed et-xmlfile-1.1.0 openpyxl-3.0.9\n"
     ]
    },
    {
     "name": "stderr",
     "output_type": "stream",
     "text": [
      "WARNING: You are using pip version 21.2.3; however, version 22.0.4 is available.\n",
      "You should consider upgrading via the 'c:\\users\\слава\\pycharmprojects\\testtmk\\venv\\scripts\\python.exe -m pip install --upgrade pip' command.\n"
     ]
    }
   ],
   "source": []
  },
  {
   "cell_type": "code",
   "execution_count": null,
   "id": "9879c643",
   "metadata": {},
   "outputs": [],
   "source": []
  }
 ],
 "metadata": {
  "kernelspec": {
   "display_name": "Python 3 (ipykernel)",
   "language": "python",
   "name": "python3"
  },
  "language_info": {
   "codemirror_mode": {
    "name": "ipython",
    "version": 3
   },
   "file_extension": ".py",
   "mimetype": "text/x-python",
   "name": "python",
   "nbconvert_exporter": "python",
   "pygments_lexer": "ipython3",
   "version": "3.8.8"
  }
 },
 "nbformat": 4,
 "nbformat_minor": 5
}
